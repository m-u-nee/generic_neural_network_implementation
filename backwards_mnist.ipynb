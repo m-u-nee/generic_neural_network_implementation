{
 "cells": [
  {
   "cell_type": "code",
   "execution_count": 1,
   "metadata": {},
   "outputs": [],
   "source": [
    "# In this code, we will attempt to run MNIST backwards, i.e. given a number, the neural net will output the image of that number."
   ]
  },
  {
   "cell_type": "code",
   "execution_count": 16,
   "metadata": {},
   "outputs": [],
   "source": [
    "#Import packages\n",
    "\n",
    "import numpy as np\n",
    "from keras.datasets import mnist\n",
    "from keras.utils import np_utils\n",
    "import matplotlib.pyplot as plt\n",
    "from Dense import Dense\n",
    "from Activations import Tanh, ReLu, Sigmoid, Softmax, Binary\n",
    "from Losses import mse, mse_prime\n",
    "from Network import train, predict\n",
    "from Visualize import visualize_network\n",
    "import cv2\n"
   ]
  },
  {
   "cell_type": "code",
   "execution_count": 17,
   "metadata": {},
   "outputs": [],
   "source": [
    "\n",
    "def preprocess_data(x, y, limit,new_dim=(28, 28)):\n",
    "    # reshape and normalize input data\n",
    "    x = x.reshape(x.shape[0], 28, 28)\n",
    "    x = x.astype(\"float32\") / 255\n",
    "    \n",
    "    # resize the images\n",
    "    x_resized = []\n",
    "    for img in x:\n",
    "        img_resized = cv2.resize(img, new_dim, interpolation = cv2.INTER_AREA)\n",
    "        x_resized.append(img_resized)\n",
    "    x = np.array(x_resized)\n",
    "    x = x.reshape(x.shape[0], new_dim[0] * new_dim[1], 1)\n",
    "    \n",
    "    # encode output which is a number in range [0,9] into a vector of size 10\n",
    "    # e.g. number 3 will become [0, 0, 0, 1, 0, 0, 0, 0, 0, 0]\n",
    "    y = np_utils.to_categorical(y)\n",
    "    y = y.reshape(y.shape[0], 10, 1)\n",
    "    \n",
    "    return x[:limit], y[:limit]\n",
    "\n",
    "new_dim = 12\n",
    "(x_train, y_train), (x_test, y_test) = mnist.load_data()\n",
    "x_train, y_train = preprocess_data(x_train, y_train, limit = 60000, new_dim = (new_dim, new_dim))\n",
    "\n",
    "network = [\n",
    "    Dense(10, new_dim*new_dim),\n",
    "    Sigmoid()\n",
    "]\n"
   ]
  },
  {
   "cell_type": "code",
   "execution_count": null,
   "metadata": {},
   "outputs": [],
   "source": []
  },
  {
   "cell_type": "code",
   "execution_count": null,
   "metadata": {},
   "outputs": [],
   "source": []
  },
  {
   "cell_type": "code",
   "execution_count": 9,
   "metadata": {},
   "outputs": [
    {
     "name": "stdout",
     "output_type": "stream",
     "text": [
      "1/1000000, error=0.09526003502897085\n",
      "2/1000000, error=0.06082388929436333\n",
      "3/1000000, error=0.05698393227646427\n",
      "4/1000000, error=0.05557392831013769\n",
      "5/1000000, error=0.05491763266006673\n",
      "6/1000000, error=0.05453382463268047\n",
      "7/1000000, error=0.054285667846166175\n",
      "8/1000000, error=0.05411357467556901\n",
      "9/1000000, error=0.05399404340110658\n",
      "10/1000000, error=0.05391161625502394\n",
      "11/1000000, error=0.05385069028701889\n",
      "12/1000000, error=0.053803198214661827\n",
      "13/1000000, error=0.05376475789209061\n",
      "14/1000000, error=0.053732877961086806\n",
      "15/1000000, error=0.05370616263890053\n",
      "16/1000000, error=0.05368365825092365\n",
      "17/1000000, error=0.053664440805254926\n",
      "18/1000000, error=0.053647643150215626\n",
      "19/1000000, error=0.05363260119598624\n",
      "20/1000000, error=0.05361885661507597\n",
      "21/1000000, error=0.053606084417035973\n",
      "22/1000000, error=0.053594032087933986\n",
      "23/1000000, error=0.053582481753307744\n",
      "24/1000000, error=0.05357122511337299\n",
      "25/1000000, error=0.053560045188820564\n",
      "26/1000000, error=0.053548709557179656\n",
      "27/1000000, error=0.053537014021125096\n",
      "28/1000000, error=0.053524989151722026\n",
      "29/1000000, error=0.05351317949072494\n",
      "30/1000000, error=0.053502315308678286\n",
      "31/1000000, error=0.053492782954517815\n",
      "32/1000000, error=0.05348461964907788\n",
      "33/1000000, error=0.05347754435705675\n",
      "34/1000000, error=0.05347116799451914\n",
      "35/1000000, error=0.053465219019416116\n",
      "36/1000000, error=0.05345960254953279\n",
      "37/1000000, error=0.05345435400713069\n",
      "38/1000000, error=0.05344953010345924\n",
      "39/1000000, error=0.05344512531370258\n",
      "40/1000000, error=0.05344108179375165\n",
      "41/1000000, error=0.05343733240708495\n",
      "42/1000000, error=0.05343382103870048\n",
      "43/1000000, error=0.05343050447590706\n",
      "44/1000000, error=0.0534273493343526\n",
      "45/1000000, error=0.05342432920672101\n",
      "46/1000000, error=0.05342142289559356\n",
      "47/1000000, error=0.05341861343459139\n",
      "48/1000000, error=0.05341588757932648\n",
      "49/1000000, error=0.05341323565313891\n",
      "50/1000000, error=0.053410651792575134\n",
      "51/1000000, error=0.053408134701313156\n",
      "52/1000000, error=0.05340568880702703\n",
      "53/1000000, error=0.053403325013675736\n",
      "54/1000000, error=0.05340105941080007\n",
      "55/1000000, error=0.053398908670847976\n",
      "56/1000000, error=0.05339688344226451\n",
      "57/1000000, error=0.053394983833065665\n",
      "58/1000000, error=0.053393200094666755\n",
      "59/1000000, error=0.0533915172209175\n",
      "60/1000000, error=0.05338991969531911\n",
      "61/1000000, error=0.0533883941366288\n",
      "62/1000000, error=0.053386929982236576\n",
      "63/1000000, error=0.05338551921369645\n",
      "64/1000000, error=0.05338415585954398\n",
      "65/1000000, error=0.053382835579078705\n"
     ]
    },
    {
     "ename": "KeyboardInterrupt",
     "evalue": "",
     "output_type": "error",
     "traceback": [
      "\u001b[0;31m---------------------------------------------------------------------------\u001b[0m",
      "\u001b[0;31mKeyboardInterrupt\u001b[0m                         Traceback (most recent call last)",
      "\u001b[1;32m/Users/mattia/Desktop/Neural_Nets/backwards_mnist.ipynb Cell 6\u001b[0m line \u001b[0;36m1\n\u001b[0;32m----> <a href='vscode-notebook-cell:/Users/mattia/Desktop/Neural_Nets/backwards_mnist.ipynb#W5sZmlsZQ%3D%3D?line=0'>1</a>\u001b[0m costs \u001b[39m=\u001b[39m train(network, mse, mse_prime, y_train, x_train, epochs\u001b[39m=\u001b[39;49m\u001b[39m1000000\u001b[39;49m, batch_size \u001b[39m=\u001b[39;49m \u001b[39m1\u001b[39;49m, learning_rate\u001b[39m=\u001b[39;49m\u001b[39m1\u001b[39;49m)\n",
      "File \u001b[0;32m~/Desktop/Neural_Nets/Network.py:23\u001b[0m, in \u001b[0;36mtrain\u001b[0;34m(network, loss, loss_prime, x_train, y_train, epochs, batch_size, learning_rate, verbose)\u001b[0m\n\u001b[1;32m     21\u001b[0m grad \u001b[39m=\u001b[39m loss_prime(y, output)\n\u001b[1;32m     22\u001b[0m \u001b[39mfor\u001b[39;00m layer \u001b[39min\u001b[39;00m \u001b[39mreversed\u001b[39m(network):\n\u001b[0;32m---> 23\u001b[0m     grad \u001b[39m=\u001b[39m layer\u001b[39m.\u001b[39;49mbackward(grad)\n\u001b[1;32m     24\u001b[0m \u001b[39mif\u001b[39;00m i\u001b[39m%\u001b[39mbatch_size\u001b[39m==\u001b[39m\u001b[39m0\u001b[39m:\n\u001b[1;32m     25\u001b[0m     \u001b[39mfor\u001b[39;00m layer \u001b[39min\u001b[39;00m network:\n",
      "File \u001b[0;32m~/Desktop/Neural_Nets/Dense.py:26\u001b[0m, in \u001b[0;36mDense.backward\u001b[0;34m(self, output_gradient)\u001b[0m\n\u001b[1;32m     24\u001b[0m \u001b[39mself\u001b[39m\u001b[39m.\u001b[39mweights_gradient \u001b[39m+\u001b[39m\u001b[39m=\u001b[39m np\u001b[39m.\u001b[39mdot(output_gradient, \u001b[39mself\u001b[39m\u001b[39m.\u001b[39minput\u001b[39m.\u001b[39mT) \u001b[39m+\u001b[39m \u001b[39m2\u001b[39m \u001b[39m*\u001b[39m \u001b[39mself\u001b[39m\u001b[39m.\u001b[39mregularization \u001b[39m*\u001b[39m \u001b[39mself\u001b[39m\u001b[39m.\u001b[39mweights\n\u001b[1;32m     25\u001b[0m \u001b[39mself\u001b[39m\u001b[39m.\u001b[39mbias_gradient \u001b[39m+\u001b[39m\u001b[39m=\u001b[39m output_gradient\n\u001b[0;32m---> 26\u001b[0m input_gradient \u001b[39m=\u001b[39m np\u001b[39m.\u001b[39;49mdot(\u001b[39mself\u001b[39;49m\u001b[39m.\u001b[39;49mweights\u001b[39m.\u001b[39;49mT, output_gradient)\n\u001b[1;32m     27\u001b[0m \u001b[39mreturn\u001b[39;00m input_gradient\n",
      "File \u001b[0;32m<__array_function__ internals>:177\u001b[0m, in \u001b[0;36mdot\u001b[0;34m(*args, **kwargs)\u001b[0m\n",
      "\u001b[0;31mKeyboardInterrupt\u001b[0m: "
     ]
    }
   ],
   "source": [
    "\n",
    "costs = train(network, mse, mse_prime, y_train, x_train, epochs=1000000, batch_size = 1, learning_rate=1)"
   ]
  },
  {
   "cell_type": "code",
   "execution_count": 18,
   "metadata": {},
   "outputs": [
    {
     "data": {
      "image/png": "[encoded data removed]",
      "text/plain": [
       "<Figure size 640x480 with 10 Axes>"
      ]
     },
     "metadata": {},
     "output_type": "display_data"
    }
   ],
   "source": [
    "# Visualize each digit, feeding the network with the number and visualizing the output\n",
    "\n",
    "#make a y for each digit\n",
    "y = np.zeros((10,10,1))\n",
    "for i in range(10):\n",
    "    y[i][i] = 1\n",
    "\n",
    "# Visualize each digit, feeding the network with the number and visualizing the output\n",
    "for i in range(10):\n",
    "    plt.subplot(2, 5, i+1)\n",
    "    plt.imshow(predict(network, y[i]).reshape(new_dim, new_dim), cmap=\"gray\")\n",
    "\n",
    "\n"
   ]
  },
  {
   "cell_type": "code",
   "execution_count": 19,
   "metadata": {},
   "outputs": [
    {
     "data": {
      "image/png": "[encoded data removed]",
      "text/plain": [
       "<Figure size 640x480 with 10 Axes>"
      ]
     },
     "metadata": {},
     "output_type": "display_data"
    }
   ],
   "source": [
    "\n",
    "images = []\n",
    "for i in range(10):\n",
    "    images.append(np.zeros((new_dim,new_dim)))\n",
    "\n",
    "for i in range(len(x_train)):\n",
    "    images[np.argmax(y_train[i])] += x_train[i].reshape(new_dim,new_dim)\n",
    "\n",
    "for i in range(10):\n",
    "    images[i] /= np.sum(y_train[:,i])\n",
    "    plt.subplot(2, 5, i+1)\n",
    "    plt.imshow(images[i], cmap=\"gray\")\n",
    "\n",
    "\n",
    "\n"
   ]
  },
  {
   "cell_type": "code",
   "execution_count": 20,
   "metadata": {},
   "outputs": [
    {
     "name": "stdout",
     "output_type": "stream",
     "text": [
      "1/1000000, error=0.07701961090364662\n",
      "2/1000000, error=0.05763776937962487\n",
      "3/1000000, error=0.04705878783509492\n",
      "4/1000000, error=0.04666362581190974\n",
      "5/1000000, error=0.046363478054697885\n",
      "6/1000000, error=0.04614905665913932\n"
     ]
    },
    {
     "ename": "KeyboardInterrupt",
     "evalue": "",
     "output_type": "error",
     "traceback": [
      "\u001b[0;31m---------------------------------------------------------------------------\u001b[0m",
      "\u001b[0;31mKeyboardInterrupt\u001b[0m                         Traceback (most recent call last)",
      "\u001b[1;32m/Users/mattia/Desktop/Neural_Nets/backwards_mnist.ipynb Cell 9\u001b[0m line \u001b[0;36m2\n\u001b[1;32m     <a href='vscode-notebook-cell:/Users/mattia/Desktop/Neural_Nets/backwards_mnist.ipynb#X11sZmlsZQ%3D%3D?line=19'>20</a>\u001b[0m x_train, y_train \u001b[39m=\u001b[39m preprocess_data_no_onehotencoding(x_train, y_train, limit \u001b[39m=\u001b[39m \u001b[39m60000\u001b[39m, new_dim \u001b[39m=\u001b[39m (new_dim, new_dim))\n\u001b[1;32m     <a href='vscode-notebook-cell:/Users/mattia/Desktop/Neural_Nets/backwards_mnist.ipynb#X11sZmlsZQ%3D%3D?line=21'>22</a>\u001b[0m new_network \u001b[39m=\u001b[39m [\n\u001b[1;32m     <a href='vscode-notebook-cell:/Users/mattia/Desktop/Neural_Nets/backwards_mnist.ipynb#X11sZmlsZQ%3D%3D?line=22'>23</a>\u001b[0m     Dense(\u001b[39m1\u001b[39m, new_dim\u001b[39m*\u001b[39mnew_dim),\n\u001b[1;32m     <a href='vscode-notebook-cell:/Users/mattia/Desktop/Neural_Nets/backwards_mnist.ipynb#X11sZmlsZQ%3D%3D?line=23'>24</a>\u001b[0m     Sigmoid(),\n\u001b[1;32m     <a href='vscode-notebook-cell:/Users/mattia/Desktop/Neural_Nets/backwards_mnist.ipynb#X11sZmlsZQ%3D%3D?line=24'>25</a>\u001b[0m     Dense(new_dim\u001b[39m*\u001b[39mnew_dim, new_dim\u001b[39m*\u001b[39mnew_dim),\n\u001b[1;32m     <a href='vscode-notebook-cell:/Users/mattia/Desktop/Neural_Nets/backwards_mnist.ipynb#X11sZmlsZQ%3D%3D?line=25'>26</a>\u001b[0m     Sigmoid()\n\u001b[1;32m     <a href='vscode-notebook-cell:/Users/mattia/Desktop/Neural_Nets/backwards_mnist.ipynb#X11sZmlsZQ%3D%3D?line=26'>27</a>\u001b[0m ]\n\u001b[0;32m---> <a href='vscode-notebook-cell:/Users/mattia/Desktop/Neural_Nets/backwards_mnist.ipynb#X11sZmlsZQ%3D%3D?line=28'>29</a>\u001b[0m costs \u001b[39m=\u001b[39m train(new_network, mse, mse_prime, y_train, x_train, epochs\u001b[39m=\u001b[39;49m\u001b[39m1000000\u001b[39;49m, batch_size \u001b[39m=\u001b[39;49m \u001b[39m1\u001b[39;49m, learning_rate\u001b[39m=\u001b[39;49m\u001b[39m1\u001b[39;49m)\n",
      "File \u001b[0;32m~/Desktop/Neural_Nets/Network.py:15\u001b[0m, in \u001b[0;36mtrain\u001b[0;34m(network, loss, loss_prime, x_train, y_train, epochs, batch_size, learning_rate, verbose)\u001b[0m\n\u001b[1;32m     13\u001b[0m i\u001b[39m+\u001b[39m\u001b[39m=\u001b[39m\u001b[39m1\u001b[39m\n\u001b[1;32m     14\u001b[0m \u001b[39m# forward\u001b[39;00m\n\u001b[0;32m---> 15\u001b[0m output \u001b[39m=\u001b[39m predict(network, x)\n\u001b[1;32m     17\u001b[0m \u001b[39m# error\u001b[39;00m\n\u001b[1;32m     18\u001b[0m error \u001b[39m+\u001b[39m\u001b[39m=\u001b[39m loss(y, output)\n",
      "File \u001b[0;32m~/Desktop/Neural_Nets/Network.py:4\u001b[0m, in \u001b[0;36mpredict\u001b[0;34m(network, input)\u001b[0m\n\u001b[1;32m      2\u001b[0m output \u001b[39m=\u001b[39m \u001b[39minput\u001b[39m\n\u001b[1;32m      3\u001b[0m \u001b[39mfor\u001b[39;00m layer \u001b[39min\u001b[39;00m network:\n\u001b[0;32m----> 4\u001b[0m     output \u001b[39m=\u001b[39m layer\u001b[39m.\u001b[39;49mforward(output)\n\u001b[1;32m      5\u001b[0m \u001b[39mreturn\u001b[39;00m output\n",
      "File \u001b[0;32m~/Desktop/Neural_Nets/Dense.py:21\u001b[0m, in \u001b[0;36mDense.forward\u001b[0;34m(self, input)\u001b[0m\n\u001b[1;32m     19\u001b[0m \u001b[39mdef\u001b[39;00m \u001b[39mforward\u001b[39m(\u001b[39mself\u001b[39m, \u001b[39minput\u001b[39m):\n\u001b[1;32m     20\u001b[0m     \u001b[39mself\u001b[39m\u001b[39m.\u001b[39minput \u001b[39m=\u001b[39m \u001b[39minput\u001b[39m\n\u001b[0;32m---> 21\u001b[0m     \u001b[39mreturn\u001b[39;00m np\u001b[39m.\u001b[39;49mdot(\u001b[39mself\u001b[39;49m\u001b[39m.\u001b[39;49mweights, \u001b[39mself\u001b[39;49m\u001b[39m.\u001b[39;49minput) \u001b[39m+\u001b[39m \u001b[39mself\u001b[39m\u001b[39m.\u001b[39mbias\n",
      "File \u001b[0;32m<__array_function__ internals>:180\u001b[0m, in \u001b[0;36mdot\u001b[0;34m(*args, **kwargs)\u001b[0m\n",
      "\u001b[0;31mKeyboardInterrupt\u001b[0m: "
     ]
    }
   ],
   "source": [
    "#Now we redo all the above, but without one-hot encoding the y's\n",
    "\n",
    "def preprocess_data_no_onehotencoding(x, y, limit,new_dim=(28, 28)):\n",
    "    # reshape and normalize input data\n",
    "    x = x.reshape(x.shape[0], 28, 28)\n",
    "    x = x.astype(\"float32\") / 255\n",
    "    \n",
    "    # resize the images\n",
    "    x_resized = []\n",
    "    for img in x:\n",
    "        img_resized = cv2.resize(img, new_dim, interpolation = cv2.INTER_AREA)\n",
    "        x_resized.append(img_resized)\n",
    "    x = np.array(x_resized)\n",
    "    x = x.reshape(x.shape[0], new_dim[0] * new_dim[1], 1)\n",
    "    y = y/10\n",
    "    \n",
    "    return x[:limit], y[:limit]\n",
    "\n",
    "(x_train, y_train), (x_test, y_test) = mnist.load_data()\n",
    "x_train, y_train = preprocess_data_no_onehotencoding(x_train, y_train, limit = 60000, new_dim = (new_dim, new_dim))\n",
    "\n",
    "new_network = [\n",
    "    Dense(1, new_dim*new_dim),\n",
    "    Sigmoid(),\n",
    "    Dense(new_dim*new_dim, new_dim*new_dim),\n",
    "    Sigmoid()\n",
    "]\n",
    "\n",
    "costs = train(new_network, mse, mse_prime, y_train, x_train, epochs=1000000, batch_size = 1, learning_rate=1)\n",
    "\n"
   ]
  },
  {
   "cell_type": "code",
   "execution_count": 21,
   "metadata": {},
   "outputs": [
    {
     "data": {
      "image/png": "[encoded data removed]",
      "text/plain": [
       "<Figure size 640x480 with 10 Axes>"
      ]
     },
     "metadata": {},
     "output_type": "display_data"
    }
   ],
   "source": [
    "# Now we visualize the output of the network, feeding it with the number and visualizing the output\n",
    "\n",
    "for i in range(10):\n",
    "    plt.subplot(2, 5, i+1)\n",
    "    plt.imshow(predict(new_network, i).reshape(new_dim, new_dim), cmap=\"gray\")"
   ]
  }
 ],
 "metadata": {
  "kernelspec": {
   "display_name": "general_ml",
   "language": "python",
   "name": "python3"
  },
  "language_info": {
   "codemirror_mode": {
    "name": "ipython",
    "version": 3
   },
   "file_extension": ".py",
   "mimetype": "text/x-python",
   "name": "python",
   "nbconvert_exporter": "python",
   "pygments_lexer": "ipython3",
   "version": "3.11.5"
  }
 },
 "nbformat": 4,
 "nbformat_minor": 2
}
