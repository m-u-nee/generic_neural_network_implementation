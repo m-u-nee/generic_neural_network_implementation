{
 "cells": [
  {
   "cell_type": "code",
   "execution_count": null,
   "metadata": {},
   "outputs": [],
   "source": [
    "# In this code, we will attempt to run MNIST backwards, i.e. given a number, the neural net will output the image of that number."
   ]
  },
  {
   "cell_type": "code",
   "execution_count": null,
   "metadata": {},
   "outputs": [],
   "source": [
    "#Import packages\n",
    "\n",
    "import numpy as np\n",
    "from keras.datasets import mnist\n",
    "from keras.utils import np_utils\n",
    "import matplotlib.pyplot as plt\n",
    "from Dense import Dense\n",
    "from Activations import Tanh, ReLu, Sigmoid, Softmax, Binary\n",
    "from Losses import mse, mse_prime\n",
    "from Network import train, predict\n",
    "from Visualize import visualize_network\n"
   ]
  },
  {
   "cell_type": "code",
   "execution_count": 43,
   "metadata": {},
   "outputs": [],
   "source": [
    "def preprocess_data(x, y, limit):\n",
    "    # reshape and normalize input data\n",
    "    x = x.reshape(x.shape[0], 28 * 28, 1)\n",
    "    x = x.astype(\"float32\") / 255\n",
    "    # encode output which is a number in range [0,9] into a vector of size 10\n",
    "    # e.g. number 3 will become [0, 0, 0, 1, 0, 0, 0, 0, 0, 0]\n",
    "    y = np_utils.to_categorical(y)\n",
    "    y = y.reshape(y.shape[0], 10, 1)\n",
    "    \n",
    "    return x[:limit], y[:limit]\n",
    "\n",
    "\n",
    "# load MNIST from server\n",
    "(x_train, y_train), (x_test, y_test) = mnist.load_data()\n",
    "x_train, y_train = preprocess_data(x_train, y_train, 60000)\n",
    "x_test, y_test = preprocess_data(x_test, y_test, 1000)\n",
    "#For the moment, we attempt to take just two images from the dataset, and see if we can get the neural net to output the correct image.\n",
    "\n",
    "\n",
    "# neural network\n",
    "network = [\n",
    "    Dense(10, 28 * 28),\n",
    "    Sigmoid()\n",
    "]\n"
   ]
  },
  {
   "cell_type": "code",
   "execution_count": null,
   "metadata": {},
   "outputs": [],
   "source": []
  },
  {
   "cell_type": "code",
   "execution_count": null,
   "metadata": {},
   "outputs": [],
   "source": []
  },
  {
   "cell_type": "code",
   "execution_count": 46,
   "metadata": {},
   "outputs": [
    {
     "name": "stdout",
     "output_type": "stream",
     "text": [
      "1/100, error=0.0534770963749734\n",
      "2/100, error=0.053471705866881936\n",
      "3/100, error=0.053465531512807835\n",
      "4/100, error=0.05345917554993634\n",
      "5/100, error=0.05345288848892162\n",
      "6/100, error=0.0534474783997354\n",
      "7/100, error=0.0534432857692256\n",
      "8/100, error=0.053439858478781396\n",
      "9/100, error=0.05343676106163408\n",
      "10/100, error=0.05343377931052117\n",
      "11/100, error=0.05343080004560329\n",
      "12/100, error=0.053427724835867864\n",
      "13/100, error=0.05342442997800608\n",
      "14/100, error=0.05342077920524142\n",
      "15/100, error=0.053416801878615534\n",
      "16/100, error=0.053412976097338985\n",
      "17/100, error=0.053409805206579654\n",
      "18/100, error=0.05340722443587921\n",
      "19/100, error=0.05340499742351611\n",
      "20/100, error=0.05340299198487879\n",
      "21/100, error=0.053401145887931926\n",
      "22/100, error=0.053399426527634596\n",
      "23/100, error=0.05339781414034331\n",
      "24/100, error=0.05339629441066537\n",
      "25/100, error=0.05339485530573665\n",
      "26/100, error=0.05339348621028674\n",
      "27/100, error=0.05339217802295632\n",
      "28/100, error=0.05339092331629595\n",
      "29/100, error=0.05338971624273184\n",
      "30/100, error=0.05338855224535438\n",
      "31/100, error=0.05338742771911447\n",
      "32/100, error=0.053386339715415385\n",
      "33/100, error=0.053385285721540165\n",
      "34/100, error=0.05338426351348314\n",
      "35/100, error=0.053383271069007726\n",
      "36/100, error=0.05338230652481602\n",
      "37/100, error=0.05338136816179693\n",
      "38/100, error=0.05338045440412123\n",
      "39/100, error=0.053379563821143776\n",
      "40/100, error=0.053378695125188044\n",
      "41/100, error=0.05337784716221069\n",
      "42/100, error=0.053377018895575584\n",
      "43/100, error=0.05337620938526236\n",
      "44/100, error=0.05337541776586517\n",
      "45/100, error=0.053374643226865595\n",
      "46/100, error=0.053373884998051964\n",
      "47/100, error=0.05337314234180989\n",
      "48/100, error=0.05337241455265011\n",
      "49/100, error=0.053371700963082525\n",
      "50/100, error=0.05337100095406123\n",
      "51/100, error=0.053370313967879474\n",
      "52/100, error=0.05336963952142024\n",
      "53/100, error=0.05336897721800681\n",
      "54/100, error=0.053368326756281226\n",
      "55/100, error=0.05336768793476015\n",
      "56/100, error=0.0533670606506313\n",
      "57/100, error=0.05336644489152098\n",
      "58/100, error=0.05336584071930374\n",
      "59/100, error=0.05336524824601341\n",
      "60/100, error=0.053364667603361955\n",
      "61/100, error=0.05336409890917217\n",
      "62/100, error=0.053363542235451554\n"
     ]
    },
    {
     "ename": "KeyboardInterrupt",
     "evalue": "",
     "output_type": "error",
     "traceback": [
      "\u001b[0;31m---------------------------------------------------------------------------\u001b[0m",
      "\u001b[0;31mKeyboardInterrupt\u001b[0m                         Traceback (most recent call last)",
      "\u001b[1;32m/Users/mattia/Desktop/Neural_Nets/backwards_mnist.ipynb Cell 6\u001b[0m line \u001b[0;36m3\n\u001b[1;32m      <a href='vscode-notebook-cell:/Users/mattia/Desktop/Neural_Nets/backwards_mnist.ipynb#W3sZmlsZQ%3D%3D?line=0'>1</a>\u001b[0m learning_rates \u001b[39m=\u001b[39m [\u001b[39m0.01\u001b[39m]\n\u001b[1;32m      <a href='vscode-notebook-cell:/Users/mattia/Desktop/Neural_Nets/backwards_mnist.ipynb#W3sZmlsZQ%3D%3D?line=1'>2</a>\u001b[0m \u001b[39mfor\u001b[39;00m i \u001b[39min\u001b[39;00m \u001b[39mrange\u001b[39m(\u001b[39m1\u001b[39m):\n\u001b[0;32m----> <a href='vscode-notebook-cell:/Users/mattia/Desktop/Neural_Nets/backwards_mnist.ipynb#W3sZmlsZQ%3D%3D?line=2'>3</a>\u001b[0m     costs \u001b[39m=\u001b[39m train(network, mse, mse_prime, y_train, x_train, epochs\u001b[39m=\u001b[39;49m\u001b[39m100\u001b[39;49m, batch_size \u001b[39m=\u001b[39;49m \u001b[39m1\u001b[39;49m, learning_rate\u001b[39m=\u001b[39;49m\u001b[39m1\u001b[39;49m)\n\u001b[1;32m      <a href='vscode-notebook-cell:/Users/mattia/Desktop/Neural_Nets/backwards_mnist.ipynb#W3sZmlsZQ%3D%3D?line=3'>4</a>\u001b[0m     y \u001b[39m=\u001b[39m np\u001b[39m.\u001b[39mzeros((\u001b[39m10\u001b[39m,\u001b[39m10\u001b[39m,\u001b[39m1\u001b[39m))\n",
      "File \u001b[0;32m~/Desktop/Neural_Nets/Network.py:23\u001b[0m, in \u001b[0;36mtrain\u001b[0;34m(network, loss, loss_prime, x_train, y_train, epochs, batch_size, learning_rate, verbose)\u001b[0m\n\u001b[1;32m     21\u001b[0m grad \u001b[39m=\u001b[39m loss_prime(y, output)\n\u001b[1;32m     22\u001b[0m \u001b[39mfor\u001b[39;00m layer \u001b[39min\u001b[39;00m \u001b[39mreversed\u001b[39m(network):\n\u001b[0;32m---> 23\u001b[0m     grad \u001b[39m=\u001b[39m layer\u001b[39m.\u001b[39;49mbackward(grad)\n\u001b[1;32m     24\u001b[0m \u001b[39mif\u001b[39;00m i\u001b[39m%\u001b[39mbatch_size\u001b[39m==\u001b[39m\u001b[39m0\u001b[39m:\n\u001b[1;32m     25\u001b[0m     \u001b[39mfor\u001b[39;00m layer \u001b[39min\u001b[39;00m network:\n",
      "File \u001b[0;32m~/Desktop/Neural_Nets/Dense.py:26\u001b[0m, in \u001b[0;36mDense.backward\u001b[0;34m(self, output_gradient)\u001b[0m\n\u001b[1;32m     24\u001b[0m \u001b[39mself\u001b[39m\u001b[39m.\u001b[39mweights_gradient \u001b[39m+\u001b[39m\u001b[39m=\u001b[39m np\u001b[39m.\u001b[39mdot(output_gradient, \u001b[39mself\u001b[39m\u001b[39m.\u001b[39minput\u001b[39m.\u001b[39mT) \u001b[39m+\u001b[39m \u001b[39m2\u001b[39m \u001b[39m*\u001b[39m \u001b[39mself\u001b[39m\u001b[39m.\u001b[39mregularization \u001b[39m*\u001b[39m \u001b[39mself\u001b[39m\u001b[39m.\u001b[39mweights\n\u001b[1;32m     25\u001b[0m \u001b[39mself\u001b[39m\u001b[39m.\u001b[39mbias_gradient \u001b[39m+\u001b[39m\u001b[39m=\u001b[39m output_gradient\n\u001b[0;32m---> 26\u001b[0m input_gradient \u001b[39m=\u001b[39m np\u001b[39m.\u001b[39;49mdot(\u001b[39mself\u001b[39;49m\u001b[39m.\u001b[39;49mweights\u001b[39m.\u001b[39;49mT, output_gradient)\n\u001b[1;32m     27\u001b[0m \u001b[39mreturn\u001b[39;00m input_gradient\n",
      "File \u001b[0;32m<__array_function__ internals>:177\u001b[0m, in \u001b[0;36mdot\u001b[0;34m(*args, **kwargs)\u001b[0m\n",
      "\u001b[0;31mKeyboardInterrupt\u001b[0m: "
     ]
    }
   ],
   "source": [
    "learning_rates = [0.01]\n",
    "for i in range(1):\n",
    "    costs = train(network, mse, mse_prime, y_train, x_train, epochs=100, batch_size = 1, learning_rate=1)\n",
    "    y = np.zeros((10,10,1))\n",
    "    \n",
    "\n",
    "\n"
   ]
  },
  {
   "cell_type": "code",
   "execution_count": 50,
   "metadata": {},
   "outputs": [
    {
     "data": {
      "image/png": "[encoded data removed]",
      "text/plain": [
       "<Figure size 640x480 with 10 Axes>"
      ]
     },
     "metadata": {},
     "output_type": "display_data"
    }
   ],
   "source": [
    "# Visualize each digit, feeding the network with the number and visualizing the output\n",
    "\n",
    "#make a y for each digit\n",
    "y = np.zeros((10,10,1))\n",
    "for i in range(10):\n",
    "    y[i][i] = 1\n",
    "\n",
    "# Visualize each digit, feeding the network with the number and visualizing the output\n",
    "for i in range(10):\n",
    "    plt.subplot(2, 5, i+1)\n",
    "    plt.imshow(predict(network, y[i]).reshape(28, 28), cmap=\"gray\")\n",
    "\n",
    "\n"
   ]
  },
  {
   "cell_type": "code",
   "execution_count": null,
   "metadata": {},
   "outputs": [],
   "source": []
  }
 ],
 "metadata": {
  "kernelspec": {
   "display_name": "general_ml",
   "language": "python",
   "name": "python3"
  },
  "language_info": {
   "codemirror_mode": {
    "name": "ipython",
    "version": 3
   },
   "file_extension": ".py",
   "mimetype": "text/x-python",
   "name": "python",
   "nbconvert_exporter": "python",
   "pygments_lexer": "ipython3",
   "version": "3.11.5"
  }
 },
 "nbformat": 4,
 "nbformat_minor": 2
}
