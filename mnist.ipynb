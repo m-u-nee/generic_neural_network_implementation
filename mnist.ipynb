{
 "cells": [
  {
   "cell_type": "code",
   "execution_count": 15,
   "metadata": {},
   "outputs": [
    {
     "ename": "KeyboardInterrupt",
     "evalue": "",
     "output_type": "error",
     "traceback": [
      "\u001b[0;31m---------------------------------------------------------------------------\u001b[0m",
      "\u001b[0;31mKeyboardInterrupt\u001b[0m                         Traceback (most recent call last)",
      "\u001b[1;32m/Users/mattia/Desktop/Neural_Nets/mnist.ipynb Cell 1\u001b[0m line \u001b[0;36m3\n\u001b[1;32m     <a href='vscode-notebook-cell:/Users/mattia/Desktop/Neural_Nets/mnist.ipynb#W0sZmlsZQ%3D%3D?line=26'>27</a>\u001b[0m network \u001b[39m=\u001b[39m [\n\u001b[1;32m     <a href='vscode-notebook-cell:/Users/mattia/Desktop/Neural_Nets/mnist.ipynb#W0sZmlsZQ%3D%3D?line=27'>28</a>\u001b[0m     Dense(\u001b[39m28\u001b[39m \u001b[39m*\u001b[39m \u001b[39m28\u001b[39m, \u001b[39m40\u001b[39m, regularization\u001b[39m=\u001b[39m\u001b[39m0.01\u001b[39m),\n\u001b[1;32m     <a href='vscode-notebook-cell:/Users/mattia/Desktop/Neural_Nets/mnist.ipynb#W0sZmlsZQ%3D%3D?line=28'>29</a>\u001b[0m     Tanh(),\n\u001b[1;32m     <a href='vscode-notebook-cell:/Users/mattia/Desktop/Neural_Nets/mnist.ipynb#W0sZmlsZQ%3D%3D?line=29'>30</a>\u001b[0m     Dense(\u001b[39m40\u001b[39m, \u001b[39m10\u001b[39m, regularization\u001b[39m=\u001b[39m\u001b[39m0.01\u001b[39m),\n\u001b[1;32m     <a href='vscode-notebook-cell:/Users/mattia/Desktop/Neural_Nets/mnist.ipynb#W0sZmlsZQ%3D%3D?line=30'>31</a>\u001b[0m     Tanh()\n\u001b[1;32m     <a href='vscode-notebook-cell:/Users/mattia/Desktop/Neural_Nets/mnist.ipynb#W0sZmlsZQ%3D%3D?line=31'>32</a>\u001b[0m ]\n\u001b[1;32m     <a href='vscode-notebook-cell:/Users/mattia/Desktop/Neural_Nets/mnist.ipynb#W0sZmlsZQ%3D%3D?line=33'>34</a>\u001b[0m \u001b[39m# train\u001b[39;00m\n\u001b[0;32m---> <a href='vscode-notebook-cell:/Users/mattia/Desktop/Neural_Nets/mnist.ipynb#W0sZmlsZQ%3D%3D?line=34'>35</a>\u001b[0m costs \u001b[39m=\u001b[39m train(network, mse, mse_prime, x_train, y_train, epochs\u001b[39m=\u001b[39;49m\u001b[39m10\u001b[39;49m, batch_size \u001b[39m=\u001b[39;49m \u001b[39m2\u001b[39;49m, learning_rate\u001b[39m=\u001b[39;49m\u001b[39m0.01\u001b[39;49m)\n\u001b[1;32m     <a href='vscode-notebook-cell:/Users/mattia/Desktop/Neural_Nets/mnist.ipynb#W0sZmlsZQ%3D%3D?line=36'>37</a>\u001b[0m \u001b[39m# plot costs\u001b[39;00m\n\u001b[1;32m     <a href='vscode-notebook-cell:/Users/mattia/Desktop/Neural_Nets/mnist.ipynb#W0sZmlsZQ%3D%3D?line=37'>38</a>\u001b[0m \u001b[39mimport\u001b[39;00m \u001b[39mmatplotlib\u001b[39;00m\u001b[39m.\u001b[39;00m\u001b[39mpyplot\u001b[39;00m \u001b[39mas\u001b[39;00m \u001b[39mplt\u001b[39;00m\n",
      "File \u001b[0;32m~/Desktop/Neural_Nets/Network.py:15\u001b[0m, in \u001b[0;36mtrain\u001b[0;34m(network, loss, loss_prime, x_train, y_train, epochs, batch_size, learning_rate, verbose)\u001b[0m\n\u001b[1;32m     13\u001b[0m i\u001b[39m+\u001b[39m\u001b[39m=\u001b[39m\u001b[39m1\u001b[39m\n\u001b[1;32m     14\u001b[0m \u001b[39m# forward\u001b[39;00m\n\u001b[0;32m---> 15\u001b[0m output \u001b[39m=\u001b[39m predict(network, x)\n\u001b[1;32m     17\u001b[0m \u001b[39m# error\u001b[39;00m\n\u001b[1;32m     18\u001b[0m error \u001b[39m+\u001b[39m\u001b[39m=\u001b[39m loss(y, output)\n",
      "File \u001b[0;32m~/Desktop/Neural_Nets/Network.py:4\u001b[0m, in \u001b[0;36mpredict\u001b[0;34m(network, input)\u001b[0m\n\u001b[1;32m      2\u001b[0m output \u001b[39m=\u001b[39m \u001b[39minput\u001b[39m\n\u001b[1;32m      3\u001b[0m \u001b[39mfor\u001b[39;00m layer \u001b[39min\u001b[39;00m network:\n\u001b[0;32m----> 4\u001b[0m     output \u001b[39m=\u001b[39m layer\u001b[39m.\u001b[39;49mforward(output)\n\u001b[1;32m      5\u001b[0m \u001b[39mreturn\u001b[39;00m output\n",
      "File \u001b[0;32m~/Desktop/Neural_Nets/Dense.py:13\u001b[0m, in \u001b[0;36mDense.forward\u001b[0;34m(self, input)\u001b[0m\n\u001b[1;32m     11\u001b[0m \u001b[39mdef\u001b[39;00m \u001b[39mforward\u001b[39m(\u001b[39mself\u001b[39m, \u001b[39minput\u001b[39m):\n\u001b[1;32m     12\u001b[0m     \u001b[39mself\u001b[39m\u001b[39m.\u001b[39minput \u001b[39m=\u001b[39m \u001b[39minput\u001b[39m\n\u001b[0;32m---> 13\u001b[0m     \u001b[39mreturn\u001b[39;00m np\u001b[39m.\u001b[39;49mdot(\u001b[39mself\u001b[39;49m\u001b[39m.\u001b[39;49mweights, \u001b[39mself\u001b[39;49m\u001b[39m.\u001b[39;49minput) \u001b[39m+\u001b[39m \u001b[39mself\u001b[39m\u001b[39m.\u001b[39mbias\n",
      "File \u001b[0;32m<__array_function__ internals>:180\u001b[0m, in \u001b[0;36mdot\u001b[0;34m(*args, **kwargs)\u001b[0m\n",
      "\u001b[0;31mKeyboardInterrupt\u001b[0m: "
     ]
    }
   ],
   "source": [
    "import numpy as np\n",
    "from keras.datasets import mnist\n",
    "from keras.utils import np_utils\n",
    "import matplotlib.pyplot as plt\n",
    "from Dense import Dense\n",
    "from Activations import Tanh\n",
    "from Losses import mse, mse_prime\n",
    "from Network import train, predict\n",
    "\n",
    "def preprocess_data(x, y, limit):\n",
    "    # reshape and normalize input data\n",
    "    x = x.reshape(x.shape[0], 28 * 28, 1)\n",
    "    x = x.astype(\"float32\") / 255\n",
    "    # encode output which is a number in range [0,9] into a vector of size 10\n",
    "    # e.g. number 3 will become [0, 0, 0, 1, 0, 0, 0, 0, 0, 0]\n",
    "    y = np_utils.to_categorical(y)\n",
    "    y = y.reshape(y.shape[0], 10, 1)\n",
    "    return x[:limit], y[:limit]\n",
    "\n",
    "\n",
    "# load MNIST from server\n",
    "(x_train, y_train), (x_test, y_test) = mnist.load_data()\n",
    "x_train, y_train = preprocess_data(x_train, y_train, 60000)\n",
    "x_test, y_test = preprocess_data(x_test, y_test, 10000)\n",
    "\n",
    "# neural network\n",
    "network = [\n",
    "    Dense(28 * 28, 40, regularization=0.01),\n",
    "    Tanh(),\n",
    "    Dense(40, 10, regularization=0.01),\n",
    "    Tanh()\n",
    "]\n",
    "\n",
    "# train\n",
    "costs = train(network, mse, mse_prime, x_train, y_train, epochs=10, batch_size = 2, learning_rate=0.01)\n",
    "\n",
    "# plot costs\n",
    "import matplotlib.pyplot as plt\n",
    "plt.plot(costs)\n",
    "plt.xlabel('Iterations')\n",
    "plt.ylabel('Cost')\n",
    "plt.show()\n",
    "\n",
    "# calculate error on test set\n",
    "error = 0\n",
    "for x, y in zip(x_test, y_test):\n",
    "    output = predict(network, x)\n",
    "    error += mse(y, output)\n",
    "error /= len(x_test)\n",
    "print(\"error:\", error)\n",
    "\n",
    "\n",
    "# test\n",
    "for x, y in zip(x_test, y_test):\n",
    "    output = predict(network, x)\n",
    "    print('pred:', np.argmax(output), '\\ttrue:', np.argmax(y))\n"
   ]
  },
  {
   "cell_type": "code",
   "execution_count": 16,
   "metadata": {},
   "outputs": [
    {
     "ename": "AttributeError",
     "evalue": "'Dense' object has no attribute 'get_num_neurons'",
     "output_type": "error",
     "traceback": [
      "\u001b[0;31m---------------------------------------------------------------------------\u001b[0m",
      "\u001b[0;31mAttributeError\u001b[0m                            Traceback (most recent call last)",
      "\u001b[1;32m/Users/mattia/Desktop/Neural_Nets/mnist.ipynb Cell 2\u001b[0m line \u001b[0;36m4\n\u001b[1;32m     <a href='vscode-notebook-cell:/Users/mattia/Desktop/Neural_Nets/mnist.ipynb#W2sZmlsZQ%3D%3D?line=37'>38</a>\u001b[0m     plt\u001b[39m.\u001b[39mshow()\n\u001b[1;32m     <a href='vscode-notebook-cell:/Users/mattia/Desktop/Neural_Nets/mnist.ipynb#W2sZmlsZQ%3D%3D?line=39'>40</a>\u001b[0m \u001b[39m# Example usage\u001b[39;00m\n\u001b[0;32m---> <a href='vscode-notebook-cell:/Users/mattia/Desktop/Neural_Nets/mnist.ipynb#W2sZmlsZQ%3D%3D?line=40'>41</a>\u001b[0m visualize_network(network)\n",
      "\u001b[1;32m/Users/mattia/Desktop/Neural_Nets/mnist.ipynb Cell 2\u001b[0m line \u001b[0;36m1\n\u001b[1;32m      <a href='vscode-notebook-cell:/Users/mattia/Desktop/Neural_Nets/mnist.ipynb#W2sZmlsZQ%3D%3D?line=7'>8</a>\u001b[0m ax\u001b[39m.\u001b[39mset_aspect(\u001b[39m'\u001b[39m\u001b[39mequal\u001b[39m\u001b[39m'\u001b[39m)\n\u001b[1;32m     <a href='vscode-notebook-cell:/Users/mattia/Desktop/Neural_Nets/mnist.ipynb#W2sZmlsZQ%3D%3D?line=9'>10</a>\u001b[0m layer_x \u001b[39m=\u001b[39m \u001b[39m0\u001b[39m\n\u001b[0;32m---> <a href='vscode-notebook-cell:/Users/mattia/Desktop/Neural_Nets/mnist.ipynb#W2sZmlsZQ%3D%3D?line=10'>11</a>\u001b[0m max_neurons \u001b[39m=\u001b[39m \u001b[39mmax\u001b[39;49m(layer\u001b[39m.\u001b[39;49mget_num_neurons() \u001b[39mfor\u001b[39;49;00m layer \u001b[39min\u001b[39;49;00m network \u001b[39mif\u001b[39;49;00m \u001b[39misinstance\u001b[39;49m(layer, Dense))\n\u001b[1;32m     <a href='vscode-notebook-cell:/Users/mattia/Desktop/Neural_Nets/mnist.ipynb#W2sZmlsZQ%3D%3D?line=12'>13</a>\u001b[0m \u001b[39mfor\u001b[39;00m layer \u001b[39min\u001b[39;00m network:\n\u001b[1;32m     <a href='vscode-notebook-cell:/Users/mattia/Desktop/Neural_Nets/mnist.ipynb#W2sZmlsZQ%3D%3D?line=13'>14</a>\u001b[0m     \u001b[39mif\u001b[39;00m \u001b[39misinstance\u001b[39m(layer, Dense):\n\u001b[1;32m     <a href='vscode-notebook-cell:/Users/mattia/Desktop/Neural_Nets/mnist.ipynb#W2sZmlsZQ%3D%3D?line=14'>15</a>\u001b[0m         \u001b[39m# Visualize the Dense layer\u001b[39;00m\n",
      "\u001b[1;32m/Users/mattia/Desktop/Neural_Nets/mnist.ipynb Cell 2\u001b[0m line \u001b[0;36m1\n\u001b[1;32m      <a href='vscode-notebook-cell:/Users/mattia/Desktop/Neural_Nets/mnist.ipynb#W2sZmlsZQ%3D%3D?line=7'>8</a>\u001b[0m ax\u001b[39m.\u001b[39mset_aspect(\u001b[39m'\u001b[39m\u001b[39mequal\u001b[39m\u001b[39m'\u001b[39m)\n\u001b[1;32m     <a href='vscode-notebook-cell:/Users/mattia/Desktop/Neural_Nets/mnist.ipynb#W2sZmlsZQ%3D%3D?line=9'>10</a>\u001b[0m layer_x \u001b[39m=\u001b[39m \u001b[39m0\u001b[39m\n\u001b[0;32m---> <a href='vscode-notebook-cell:/Users/mattia/Desktop/Neural_Nets/mnist.ipynb#W2sZmlsZQ%3D%3D?line=10'>11</a>\u001b[0m max_neurons \u001b[39m=\u001b[39m \u001b[39mmax\u001b[39m(layer\u001b[39m.\u001b[39;49mget_num_neurons() \u001b[39mfor\u001b[39;00m layer \u001b[39min\u001b[39;00m network \u001b[39mif\u001b[39;00m \u001b[39misinstance\u001b[39m(layer, Dense))\n\u001b[1;32m     <a href='vscode-notebook-cell:/Users/mattia/Desktop/Neural_Nets/mnist.ipynb#W2sZmlsZQ%3D%3D?line=12'>13</a>\u001b[0m \u001b[39mfor\u001b[39;00m layer \u001b[39min\u001b[39;00m network:\n\u001b[1;32m     <a href='vscode-notebook-cell:/Users/mattia/Desktop/Neural_Nets/mnist.ipynb#W2sZmlsZQ%3D%3D?line=13'>14</a>\u001b[0m     \u001b[39mif\u001b[39;00m \u001b[39misinstance\u001b[39m(layer, Dense):\n\u001b[1;32m     <a href='vscode-notebook-cell:/Users/mattia/Desktop/Neural_Nets/mnist.ipynb#W2sZmlsZQ%3D%3D?line=14'>15</a>\u001b[0m         \u001b[39m# Visualize the Dense layer\u001b[39;00m\n",
      "\u001b[0;31mAttributeError\u001b[0m: 'Dense' object has no attribute 'get_num_neurons'"
     ]
    },
    {
     "data": {
      "image/png": "[encoded data removed]",
      "text/plain": [
       "<Figure size 800x600 with 1 Axes>"
      ]
     },
     "metadata": {},
     "output_type": "display_data"
    }
   ],
   "source": [
    "from Dense import Dense\n",
    "\n",
    "import matplotlib.pyplot as plt\n",
    "\n",
    "def visualize_network(network):\n",
    "    fig, ax = plt.subplots(figsize=(8, 6))\n",
    "    ax.axis('off')\n",
    "    ax.set_aspect('equal')\n",
    "\n",
    "    layer_x = 0\n",
    "    max_neurons = max(layer.get_num_neurons() for layer in network if isinstance(layer, Dense))\n",
    "\n",
    "    for layer in network:\n",
    "        if isinstance(layer, Dense):\n",
    "            # Visualize the Dense layer\n",
    "            layer_width = 1\n",
    "            layer_height = max_neurons\n",
    "            for i in range(layer.get_num_neurons()):\n",
    "                ax.add_patch(plt.Rectangle((layer_x, i), layer_width, layer_height, fill=False, color='b', linestyle='dotted'))\n",
    "\n",
    "            # Draw connections to the next layer\n",
    "            if isinstance(network[network.index(layer) + 1], Dense):\n",
    "                    for j in range(network[network.index(layer) + 1].num_neurons):\n",
    "                        ax.plot([layer_x + layer_width, layer_x + layer_width + 1],\n",
    "                                [i + 0.5, j + 0.5], 'b-', linewidth=1)\n",
    "\n",
    "            layer_x += layer_width\n",
    "\n",
    "        elif isinstance(layer, Tanh):\n",
    "            # Visualize the Tanh activation function\n",
    "            activation_x = layer_x + 0.5\n",
    "            activation_y = max_neurons / 2\n",
    "            ax.text(activation_x, activation_y, 'Tanh', ha='center', va='center', fontsize=12, color='r')\n",
    "\n",
    "        layer_x += 1\n",
    "\n",
    "    plt.title('Neural Network Visualization')\n",
    "    plt.show()\n",
    "\n",
    "# Example usage\n",
    "visualize_network(network)\n"
   ]
  },
  {
   "cell_type": "code",
   "execution_count": null,
   "metadata": {},
   "outputs": [],
   "source": []
  }
 ],
 "metadata": {
  "kernelspec": {
   "display_name": "coursera_ml",
   "language": "python",
   "name": "python3"
  },
  "language_info": {
   "codemirror_mode": {
    "name": "ipython",
    "version": 3
   },
   "file_extension": ".py",
   "mimetype": "text/x-python",
   "name": "python",
   "nbconvert_exporter": "python",
   "pygments_lexer": "ipython3",
   "version": "3.11.5"
  }
 },
 "nbformat": 4,
 "nbformat_minor": 2
}
