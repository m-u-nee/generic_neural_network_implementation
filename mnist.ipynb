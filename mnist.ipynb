{
 "cells": [
  {
   "cell_type": "code",
   "execution_count": 24,
   "metadata": {},
   "outputs": [
    {
     "ename": "AttributeError",
     "evalue": "'Dense' object has no attribute 'image'",
     "output_type": "error",
     "traceback": [
      "\u001b[0;31m---------------------------------------------------------------------------\u001b[0m",
      "\u001b[0;31mAttributeError\u001b[0m                            Traceback (most recent call last)",
      "\u001b[1;32m/Users/mattia/Desktop/Neural_Nets/mnist.ipynb Cell 1\u001b[0m line \u001b[0;36m3\n\u001b[1;32m     <a href='vscode-notebook-cell:/Users/mattia/Desktop/Neural_Nets/mnist.ipynb#W0sZmlsZQ%3D%3D?line=25'>26</a>\u001b[0m \u001b[39m# neural network\u001b[39;00m\n\u001b[1;32m     <a href='vscode-notebook-cell:/Users/mattia/Desktop/Neural_Nets/mnist.ipynb#W0sZmlsZQ%3D%3D?line=26'>27</a>\u001b[0m network \u001b[39m=\u001b[39m [\n\u001b[1;32m     <a href='vscode-notebook-cell:/Users/mattia/Desktop/Neural_Nets/mnist.ipynb#W0sZmlsZQ%3D%3D?line=27'>28</a>\u001b[0m     Dense(\u001b[39m28\u001b[39m \u001b[39m*\u001b[39m \u001b[39m28\u001b[39m, \u001b[39m40\u001b[39m, regularization\u001b[39m=\u001b[39m\u001b[39m0.01\u001b[39m),\n\u001b[1;32m     <a href='vscode-notebook-cell:/Users/mattia/Desktop/Neural_Nets/mnist.ipynb#W0sZmlsZQ%3D%3D?line=28'>29</a>\u001b[0m     Tanh(),\n\u001b[1;32m     <a href='vscode-notebook-cell:/Users/mattia/Desktop/Neural_Nets/mnist.ipynb#W0sZmlsZQ%3D%3D?line=29'>30</a>\u001b[0m     Dense(\u001b[39m40\u001b[39m, \u001b[39m10\u001b[39m, regularization\u001b[39m=\u001b[39m\u001b[39m0.01\u001b[39m),\n\u001b[1;32m     <a href='vscode-notebook-cell:/Users/mattia/Desktop/Neural_Nets/mnist.ipynb#W0sZmlsZQ%3D%3D?line=30'>31</a>\u001b[0m     Tanh()\n\u001b[1;32m     <a href='vscode-notebook-cell:/Users/mattia/Desktop/Neural_Nets/mnist.ipynb#W0sZmlsZQ%3D%3D?line=31'>32</a>\u001b[0m ]\n\u001b[0;32m---> <a href='vscode-notebook-cell:/Users/mattia/Desktop/Neural_Nets/mnist.ipynb#W0sZmlsZQ%3D%3D?line=32'>33</a>\u001b[0m visualize_network(network)\n\u001b[1;32m     <a href='vscode-notebook-cell:/Users/mattia/Desktop/Neural_Nets/mnist.ipynb#W0sZmlsZQ%3D%3D?line=33'>34</a>\u001b[0m \u001b[39m# train\u001b[39;00m\n\u001b[1;32m     <a href='vscode-notebook-cell:/Users/mattia/Desktop/Neural_Nets/mnist.ipynb#W0sZmlsZQ%3D%3D?line=34'>35</a>\u001b[0m costs \u001b[39m=\u001b[39m train(network, mse, mse_prime, x_train, y_train, epochs\u001b[39m=\u001b[39m\u001b[39m10\u001b[39m, batch_size \u001b[39m=\u001b[39m \u001b[39m2\u001b[39m, learning_rate\u001b[39m=\u001b[39m\u001b[39m0.01\u001b[39m)\n",
      "File \u001b[0;32m~/Desktop/Neural_Nets/Visualize.py:7\u001b[0m, in \u001b[0;36mvisualize_network\u001b[0;34m(layers)\u001b[0m\n\u001b[1;32m      6\u001b[0m \u001b[39mdef\u001b[39;00m \u001b[39mvisualize_network\u001b[39m(layers):\n\u001b[0;32m----> 7\u001b[0m     total_width \u001b[39m=\u001b[39m \u001b[39msum\u001b[39;49m(layer\u001b[39m.\u001b[39;49mimage\u001b[39m.\u001b[39;49mwidth \u001b[39mfor\u001b[39;49;00m layer \u001b[39min\u001b[39;49;00m layers)\n\u001b[1;32m      8\u001b[0m     max_height \u001b[39m=\u001b[39m \u001b[39mmax\u001b[39m(layer\u001b[39m.\u001b[39mimage\u001b[39m.\u001b[39mheight \u001b[39mfor\u001b[39;00m layer \u001b[39min\u001b[39;00m layers)\n\u001b[1;32m     10\u001b[0m     \u001b[39m# Create a blank image to hold the entire network visualization\u001b[39;00m\n",
      "File \u001b[0;32m~/Desktop/Neural_Nets/Visualize.py:7\u001b[0m, in \u001b[0;36m<genexpr>\u001b[0;34m(.0)\u001b[0m\n\u001b[1;32m      6\u001b[0m \u001b[39mdef\u001b[39;00m \u001b[39mvisualize_network\u001b[39m(layers):\n\u001b[0;32m----> 7\u001b[0m     total_width \u001b[39m=\u001b[39m \u001b[39msum\u001b[39m(layer\u001b[39m.\u001b[39;49mimage\u001b[39m.\u001b[39mwidth \u001b[39mfor\u001b[39;00m layer \u001b[39min\u001b[39;00m layers)\n\u001b[1;32m      8\u001b[0m     max_height \u001b[39m=\u001b[39m \u001b[39mmax\u001b[39m(layer\u001b[39m.\u001b[39mimage\u001b[39m.\u001b[39mheight \u001b[39mfor\u001b[39;00m layer \u001b[39min\u001b[39;00m layers)\n\u001b[1;32m     10\u001b[0m     \u001b[39m# Create a blank image to hold the entire network visualization\u001b[39;00m\n",
      "\u001b[0;31mAttributeError\u001b[0m: 'Dense' object has no attribute 'image'"
     ]
    }
   ],
   "source": [
    "import numpy as np\n",
    "from keras.datasets import mnist\n",
    "from keras.utils import np_utils\n",
    "import matplotlib.pyplot as plt\n",
    "from Dense import Dense\n",
    "from Activations import Tanh\n",
    "from Losses import mse, mse_prime\n",
    "from Network import train, predict\n",
    "from Visualize import visualize_network\n",
    "def preprocess_data(x, y, limit):\n",
    "    # reshape and normalize input data\n",
    "    x = x.reshape(x.shape[0], 28 * 28, 1)\n",
    "    x = x.astype(\"float32\") / 255\n",
    "    # encode output which is a number in range [0,9] into a vector of size 10\n",
    "    # e.g. number 3 will become [0, 0, 0, 1, 0, 0, 0, 0, 0, 0]\n",
    "    y = np_utils.to_categorical(y)\n",
    "    y = y.reshape(y.shape[0], 10, 1)\n",
    "    return x[:limit], y[:limit]\n",
    "\n",
    "\n",
    "# load MNIST from server\n",
    "(x_train, y_train), (x_test, y_test) = mnist.load_data()\n",
    "x_train, y_train = preprocess_data(x_train, y_train, 60000)\n",
    "x_test, y_test = preprocess_data(x_test, y_test, 10000)\n",
    "\n",
    "# neural network\n",
    "network = [\n",
    "    Dense(28 * 28, 40, regularization=0.01),\n",
    "    Tanh(),\n",
    "    Dense(40, 10, regularization=0.01),\n",
    "    Tanh()\n",
    "]\n",
    "Dense(10,10).generate_image()\n",
    "visualize_network(network)\n",
    "# train\n",
    "costs = train(network, mse, mse_prime, x_train, y_train, epochs=10, batch_size = 2, learning_rate=0.01)\n",
    "\n",
    "# plot costs\n",
    "import matplotlib.pyplot as plt\n",
    "plt.plot(costs)\n",
    "plt.xlabel('Iterations')\n",
    "plt.ylabel('Cost')\n",
    "plt.show()\n",
    "\n",
    "# calculate error on test set\n",
    "error = 0\n",
    "for x, y in zip(x_test, y_test):\n",
    "    output = predict(network, x)\n",
    "    error += mse(y, output)\n",
    "error /= len(x_test)\n",
    "print(\"error:\", error)\n",
    "\n",
    "\n",
    "# test\n",
    "for x, y in zip(x_test, y_test):\n",
    "    output = predict(network, x)\n",
    "    print('pred:', np.argmax(output), '\\ttrue:', np.argmax(y))\n"
   ]
  },
  {
   "cell_type": "code",
   "execution_count": null,
   "metadata": {},
   "outputs": [],
   "source": []
  }
 ],
 "metadata": {
  "kernelspec": {
   "display_name": "coursera_ml",
   "language": "python",
   "name": "python3"
  },
  "language_info": {
   "codemirror_mode": {
    "name": "ipython",
    "version": 3
   },
   "file_extension": ".py",
   "mimetype": "text/x-python",
   "name": "python",
   "nbconvert_exporter": "python",
   "pygments_lexer": "ipython3",
   "version": "3.11.5"
  }
 },
 "nbformat": 4,
 "nbformat_minor": 2
}
