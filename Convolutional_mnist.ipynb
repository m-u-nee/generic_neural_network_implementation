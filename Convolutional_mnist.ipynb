{
 "cells": [
  {
   "cell_type": "code",
   "execution_count": 3,
   "metadata": {},
   "outputs": [],
   "source": [
    "import numpy as np\n",
    "from keras.datasets import mnist\n",
    "from keras.utils import np_utils\n",
    "import matplotlib.pyplot as plt\n",
    "from Dense import Dense\n",
    "from Convolutional import Convolutional\n",
    "from Reshape import Reshape\n",
    "from Activations import ReLu, Sigmoid, Softmax\n",
    "from Losses import binary_cross_entropy, binary_cross_entropy_prime\n",
    "from Network import train, predict\n",
    "from Layer import Layer\n",
    "\n",
    "def preprocess_data(x, y, limit):\n",
    "    zero_index = np.where(y == 0)[0][:limit]\n",
    "    one_index = np.where(y == 1)[0][:limit]\n",
    "    all_indices = np.hstack((zero_index, one_index))\n",
    "    all_indices = np.random.permutation(all_indices)\n",
    "    x, y = x[all_indices], y[all_indices]\n",
    "    x = x.reshape(len(x), 1, 28, 28)\n",
    "    x = x.astype(\"float32\") / 255\n",
    "    y = np_utils.to_categorical(y)\n",
    "    y = y.reshape(len(y), 2, 1)\n",
    "    return x, y\n",
    "\n",
    "def preprocess_data_all_digits(x, y, limit):\n",
    "    all_indices = np.random.permutation(len(x))[:limit]\n",
    "    x, y = x[all_indices], y[all_indices]\n",
    "    x = x.reshape(len(x), 1, 28, 28)\n",
    "    x = x.astype(\"float32\") / 255\n",
    "    y = np_utils.to_categorical(y)\n",
    "    y = y.reshape(len(y), 10, 1)\n",
    "    return x, y\n",
    "\n",
    "# load MNIST from server, limit to 100 images per class since we're not training on GPU\n",
    "(x_train, y_train), (x_test, y_test) = mnist.load_data()\n",
    "x_train, y_train = preprocess_data(x_train, y_train, 60000)\n",
    "x_test, y_test = preprocess_data(x_test, y_test, 1000)\n",
    "\n",
    "network = [\n",
    "    Convolutional((1, 28, 28), 3, 10),\n",
    "    Sigmoid(),\n",
    "    Reshape((10, 26, 26), (10 * 26 * 26, 1)),\n",
    "    Dense(10 * 26 * 26, 100),\n",
    "    Sigmoid(),\n",
    "    Dense(100, 2),\n",
    "    Sigmoid()\n",
    "]\n",
    "\n",
    "\n"
   ]
  },
  {
   "cell_type": "code",
   "execution_count": 4,
   "metadata": {},
   "outputs": [
    {
     "name": "stderr",
     "output_type": "stream",
     "text": [
      "/Users/mattia/Desktop/Neural_Nets/Activations.py:75: RuntimeWarning: overflow encountered in exp\n",
      "  return 1 / (1 + np.exp(-x))\n"
     ]
    }
   ],
   "source": [
    "# train\n",
    "train(\n",
    "    network,\n",
    "    binary_cross_entropy,\n",
    "    binary_cross_entropy_prime,\n",
    "    x_train,\n",
    "    y_train,\n",
    "    epochs=10,\n",
    "    learning_rate=0.01,\n",
    "    batch_size=1\n",
    ")"
   ]
  },
  {
   "cell_type": "code",
   "execution_count": null,
   "metadata": {},
   "outputs": [],
   "source": [
    "# test, keep track of correct predictions\n",
    "correct = 0\n",
    "for x, y in zip(x_test, y_test):\n",
    "    output = predict(network, x)\n",
    "    if np.argmax(output) == np.argmax(y):\n",
    "        correct += 1\n",
    "    else:\n",
    "        #Plot the image\n",
    "        plt.imshow(x.reshape(28, 28))\n",
    "        plt.show()\n",
    "        print(output)\n",
    "\n",
    "# print the accuracy\n",
    "print(f\"{correct / len(x_test) * 100}% of test data correctly predicted\")\n"
   ]
  },
  {
   "cell_type": "code",
   "execution_count": null,
   "metadata": {},
   "outputs": [],
   "source": [
    "#Now, we create another network using tensorflow and all the digits\n",
    "x_train, y_train = preprocess_data_all_digits(x_train, y_train, 60000)\n",
    "x_test, y_test = preprocess_data_all_digits(x_test, y_test, 1000)\n",
    "\n",
    "import tensorflow as tf\n",
    "from tensorflow import keras\n",
    "from tensorflow.keras import layers\n",
    "\n",
    "model = keras.Sequential(\n",
    "    [\n",
    "        keras.Input(shape=(28, 28, 1)),\n",
    "        layers.Conv2D(3, kernel_size=(3, 3), activation=\"sigmoid\"),\n",
    "        layers.Flatten(),\n",
    "        layers.Dense(100, activation=\"sigmoid\"),\n",
    "        layers.Dense(10, activation=\"sigmoid\"),\n",
    "    ]\n",
    ")\n",
    "\n",
    "model.compile(loss=\"binary_crossentropy\", optimizer=\"adam\", metrics=[\"accuracy\"])\n",
    "\n",
    "model.fit(x_train, y_train, batch_size=1, epochs=10, validation_split=0.1)\n",
    "\n",
    "model.evaluate(x_test, y_test, batch_size=1)\n",
    "\n",
    "# test, keep track of correct predictions\n",
    "correct = 0\n",
    "for x, y in zip(x_test, y_test):\n",
    "    output = model.predict(x.reshape(1, 28, 28, 1))\n",
    "    if np.argmax(output) == np.argmax(y):\n",
    "        correct += 1\n",
    "    else:\n",
    "        #Plot the image\n",
    "        #plt.imshow(x.reshape(28, 28))\n",
    "        #plt.show()\n",
    "        #print(output)\n",
    "        pass"
   ]
  }
 ],
 "metadata": {
  "kernelspec": {
   "display_name": "general_ml",
   "language": "python",
   "name": "python3"
  },
  "language_info": {
   "codemirror_mode": {
    "name": "ipython",
    "version": 3
   },
   "file_extension": ".py",
   "mimetype": "text/x-python",
   "name": "python",
   "nbconvert_exporter": "python",
   "pygments_lexer": "ipython3",
   "version": "3.11.5"
  }
 },
 "nbformat": 4,
 "nbformat_minor": 2
}
