{
 "cells": [
  {
   "cell_type": "code",
   "execution_count": 28,
   "metadata": {},
   "outputs": [],
   "source": [
    "\n",
    "import tensorflow as tf\n",
    "from tensorflow import keras\n",
    "import numpy as np\n",
    "import matplotlib.pyplot as plt\n",
    "\n",
    "\n",
    "# Load mnist data from tensorflow\n",
    "mnist = keras.datasets.mnist\n",
    "(train_images, train_labels), (test_images, test_labels) = mnist.load_data() \n",
    "\n",
    "\n",
    "def preprocess_data(train_images, test_images):\n",
    "    train_images = train_images / 255.0\n",
    "    test_images = test_images / 255.0\n",
    "    return train_images, test_images\n",
    "\n",
    "def distance(img1, img2):\n",
    "    return np.sum(np.square(img1 - img2))\n",
    "\n"
   ]
  },
  {
   "cell_type": "code",
   "execution_count": 27,
   "metadata": {},
   "outputs": [
    {
     "name": "stdout",
     "output_type": "stream",
     "text": [
      "10\n",
      "Correct:  10\n",
      "Accuracy:  1.0\n"
     ]
    }
   ],
   "source": [
    "k = 10\n",
    "train_images = train_images[:60000]\n",
    "train_labels = train_labels[:60000]\n",
    "test_images = test_images[:100]\n",
    "test_labels = test_labels[:100]\n",
    "train_images, test_images = preprocess_data(train_images, test_images)\n",
    "\n",
    "correct = 0 \n",
    "# Predict test images\n",
    "for i in range(len(test_images)):\n",
    "    img = test_images[i]\n",
    "    distances = []\n",
    "    for j in range(len(train_images)):\n",
    "        distances.append(distance(img, train_images[j]))\n",
    "    distances = np.array(distances)\n",
    "    nearest = np.argsort(distances)[:k]\n",
    "    nearest_labels = train_labels[nearest]\n",
    "    prediction = np.argmax(np.bincount(nearest_labels))\n",
    "    if prediction == test_labels[i]:\n",
    "        correct += 1\n",
    "print(\"Correct: \", correct)\n",
    "print(\"Accuracy: \", correct / len(test_images))\n"
   ]
  }
 ],
 "metadata": {
  "kernelspec": {
   "display_name": "apple_tensorflow",
   "language": "python",
   "name": "python3"
  },
  "language_info": {
   "codemirror_mode": {
    "name": "ipython",
    "version": 3
   },
   "file_extension": ".py",
   "mimetype": "text/x-python",
   "name": "python",
   "nbconvert_exporter": "python",
   "pygments_lexer": "ipython3",
   "version": "3.10.13"
  }
 },
 "nbformat": 4,
 "nbformat_minor": 2
}
